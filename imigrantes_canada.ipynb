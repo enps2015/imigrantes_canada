{
 "cells": [
  {
   "cell_type": "code",
   "execution_count": 6,
   "metadata": {
    "vscode": {
     "languageId": "r"
    }
   },
   "outputs": [
    {
     "name": "stderr",
     "output_type": "stream",
     "text": [
      "Installing package into ‘/home/eric/R/x86_64-pc-linux-gnu-library/4.3’\n",
      "(as ‘lib’ is unspecified)\n",
      "\n",
      "also installing the dependencies ‘systemfonts’, ‘textshaping’, ‘ragg’\n",
      "\n",
      "\n",
      "Warning message in install.packages(\"tidyverse\"):\n",
      "“installation of package ‘systemfonts’ had non-zero exit status”\n",
      "Warning message in install.packages(\"tidyverse\"):\n",
      "“installation of package ‘textshaping’ had non-zero exit status”\n",
      "Warning message in install.packages(\"tidyverse\"):\n",
      "“installation of package ‘ragg’ had non-zero exit status”\n",
      "Warning message in install.packages(\"tidyverse\"):\n",
      "“installation of package ‘tidyverse’ had non-zero exit status”\n",
      "Installing package into ‘/home/eric/R/x86_64-pc-linux-gnu-library/4.3’\n",
      "(as ‘lib’ is unspecified)\n",
      "\n"
     ]
    }
   ],
   "source": [
    "# Instalar tidyverse\n",
    "install.packages(\"tidyverse\")\n",
    "\n",
    "# Instalar skimr\n",
    "install.packages(\"skimr\")\n",
    "library(skimr)"
   ]
  },
  {
   "cell_type": "code",
   "execution_count": 2,
   "metadata": {
    "vscode": {
     "languageId": "r"
    }
   },
   "outputs": [
    {
     "name": "stdout",
     "output_type": "stream",
     "text": [
      "[1] \"Primeiras linhas do dataset:\"\n"
     ]
    },
    {
     "data": {
      "text/html": [
       "<table class=\"dataframe\">\n",
       "<caption>A data.frame: 6 × 38</caption>\n",
       "<thead>\n",
       "\t<tr><th></th><th scope=col>País</th><th scope=col>Continente</th><th scope=col>Região</th><th scope=col>X1980</th><th scope=col>X1981</th><th scope=col>X1982</th><th scope=col>X1983</th><th scope=col>X1984</th><th scope=col>X1985</th><th scope=col>X1986</th><th scope=col>⋯</th><th scope=col>X2005</th><th scope=col>X2006</th><th scope=col>X2007</th><th scope=col>X2008</th><th scope=col>X2009</th><th scope=col>X2010</th><th scope=col>X2011</th><th scope=col>X2012</th><th scope=col>X2013</th><th scope=col>Total</th></tr>\n",
       "\t<tr><th></th><th scope=col>&lt;chr&gt;</th><th scope=col>&lt;chr&gt;</th><th scope=col>&lt;chr&gt;</th><th scope=col>&lt;int&gt;</th><th scope=col>&lt;int&gt;</th><th scope=col>&lt;int&gt;</th><th scope=col>&lt;int&gt;</th><th scope=col>&lt;int&gt;</th><th scope=col>&lt;int&gt;</th><th scope=col>&lt;int&gt;</th><th scope=col>⋯</th><th scope=col>&lt;int&gt;</th><th scope=col>&lt;int&gt;</th><th scope=col>&lt;int&gt;</th><th scope=col>&lt;int&gt;</th><th scope=col>&lt;int&gt;</th><th scope=col>&lt;int&gt;</th><th scope=col>&lt;int&gt;</th><th scope=col>&lt;int&gt;</th><th scope=col>&lt;int&gt;</th><th scope=col>&lt;int&gt;</th></tr>\n",
       "</thead>\n",
       "<tbody>\n",
       "\t<tr><th scope=row>1</th><td>Afeganistão    </td><td>Ásia   </td><td>Sul da Ásia    </td><td>16</td><td>39</td><td>39</td><td>47</td><td>71</td><td>340</td><td>496</td><td>⋯</td><td>3436</td><td>3009</td><td>2652</td><td>2111</td><td>1746</td><td>1758</td><td>2203</td><td>2635</td><td>2004</td><td>58639</td></tr>\n",
       "\t<tr><th scope=row>2</th><td>Albânia        </td><td>Europa </td><td>Sul da Europa  </td><td> 1</td><td> 0</td><td> 0</td><td> 0</td><td> 0</td><td>  0</td><td>  1</td><td>⋯</td><td>1223</td><td> 856</td><td> 702</td><td> 560</td><td> 716</td><td> 561</td><td> 539</td><td> 620</td><td> 603</td><td>15699</td></tr>\n",
       "\t<tr><th scope=row>3</th><td>Argélia        </td><td>África </td><td>Norte da África</td><td>80</td><td>67</td><td>71</td><td>69</td><td>63</td><td> 44</td><td> 69</td><td>⋯</td><td>3626</td><td>4807</td><td>3623</td><td>4005</td><td>5393</td><td>4752</td><td>4325</td><td>3774</td><td>4331</td><td>69439</td></tr>\n",
       "\t<tr><th scope=row>4</th><td>Samoa Americana</td><td>Oceânia</td><td>Polinésia      </td><td> 0</td><td> 1</td><td> 0</td><td> 0</td><td> 0</td><td>  0</td><td>  0</td><td>⋯</td><td>   0</td><td>   1</td><td>   0</td><td>   0</td><td>   0</td><td>   0</td><td>   0</td><td>   0</td><td>   0</td><td>    6</td></tr>\n",
       "\t<tr><th scope=row>5</th><td>Andorra        </td><td>Europa </td><td>Sul da Europa  </td><td> 0</td><td> 0</td><td> 0</td><td> 0</td><td> 0</td><td>  0</td><td>  2</td><td>⋯</td><td>   0</td><td>   1</td><td>   1</td><td>   0</td><td>   0</td><td>   0</td><td>   0</td><td>   1</td><td>   1</td><td>   15</td></tr>\n",
       "\t<tr><th scope=row>6</th><td>Angola         </td><td>África </td><td>África média   </td><td> 1</td><td> 3</td><td> 6</td><td> 6</td><td> 4</td><td>  3</td><td>  5</td><td>⋯</td><td> 295</td><td> 184</td><td> 106</td><td>  76</td><td>  62</td><td>  61</td><td>  39</td><td>  70</td><td>  45</td><td> 2113</td></tr>\n",
       "</tbody>\n",
       "</table>\n"
      ],
      "text/latex": [
       "A data.frame: 6 × 38\n",
       "\\begin{tabular}{r|lllllllllllllllllllll}\n",
       "  & País & Continente & Região & X1980 & X1981 & X1982 & X1983 & X1984 & X1985 & X1986 & ⋯ & X2005 & X2006 & X2007 & X2008 & X2009 & X2010 & X2011 & X2012 & X2013 & Total\\\\\n",
       "  & <chr> & <chr> & <chr> & <int> & <int> & <int> & <int> & <int> & <int> & <int> & ⋯ & <int> & <int> & <int> & <int> & <int> & <int> & <int> & <int> & <int> & <int>\\\\\n",
       "\\hline\n",
       "\t1 & Afeganistão     & Ásia    & Sul da Ásia     & 16 & 39 & 39 & 47 & 71 & 340 & 496 & ⋯ & 3436 & 3009 & 2652 & 2111 & 1746 & 1758 & 2203 & 2635 & 2004 & 58639\\\\\n",
       "\t2 & Albânia         & Europa  & Sul da Europa   &  1 &  0 &  0 &  0 &  0 &   0 &   1 & ⋯ & 1223 &  856 &  702 &  560 &  716 &  561 &  539 &  620 &  603 & 15699\\\\\n",
       "\t3 & Argélia         & África  & Norte da África & 80 & 67 & 71 & 69 & 63 &  44 &  69 & ⋯ & 3626 & 4807 & 3623 & 4005 & 5393 & 4752 & 4325 & 3774 & 4331 & 69439\\\\\n",
       "\t4 & Samoa Americana & Oceânia & Polinésia       &  0 &  1 &  0 &  0 &  0 &   0 &   0 & ⋯ &    0 &    1 &    0 &    0 &    0 &    0 &    0 &    0 &    0 &     6\\\\\n",
       "\t5 & Andorra         & Europa  & Sul da Europa   &  0 &  0 &  0 &  0 &  0 &   0 &   2 & ⋯ &    0 &    1 &    1 &    0 &    0 &    0 &    0 &    1 &    1 &    15\\\\\n",
       "\t6 & Angola          & África  & África média    &  1 &  3 &  6 &  6 &  4 &   3 &   5 & ⋯ &  295 &  184 &  106 &   76 &   62 &   61 &   39 &   70 &   45 &  2113\\\\\n",
       "\\end{tabular}\n"
      ],
      "text/markdown": [
       "\n",
       "A data.frame: 6 × 38\n",
       "\n",
       "| <!--/--> | País &lt;chr&gt; | Continente &lt;chr&gt; | Região &lt;chr&gt; | X1980 &lt;int&gt; | X1981 &lt;int&gt; | X1982 &lt;int&gt; | X1983 &lt;int&gt; | X1984 &lt;int&gt; | X1985 &lt;int&gt; | X1986 &lt;int&gt; | ⋯ ⋯ | X2005 &lt;int&gt; | X2006 &lt;int&gt; | X2007 &lt;int&gt; | X2008 &lt;int&gt; | X2009 &lt;int&gt; | X2010 &lt;int&gt; | X2011 &lt;int&gt; | X2012 &lt;int&gt; | X2013 &lt;int&gt; | Total &lt;int&gt; |\n",
       "|---|---|---|---|---|---|---|---|---|---|---|---|---|---|---|---|---|---|---|---|---|---|\n",
       "| 1 | Afeganistão     | Ásia    | Sul da Ásia     | 16 | 39 | 39 | 47 | 71 | 340 | 496 | ⋯ | 3436 | 3009 | 2652 | 2111 | 1746 | 1758 | 2203 | 2635 | 2004 | 58639 |\n",
       "| 2 | Albânia         | Europa  | Sul da Europa   |  1 |  0 |  0 |  0 |  0 |   0 |   1 | ⋯ | 1223 |  856 |  702 |  560 |  716 |  561 |  539 |  620 |  603 | 15699 |\n",
       "| 3 | Argélia         | África  | Norte da África | 80 | 67 | 71 | 69 | 63 |  44 |  69 | ⋯ | 3626 | 4807 | 3623 | 4005 | 5393 | 4752 | 4325 | 3774 | 4331 | 69439 |\n",
       "| 4 | Samoa Americana | Oceânia | Polinésia       |  0 |  1 |  0 |  0 |  0 |   0 |   0 | ⋯ |    0 |    1 |    0 |    0 |    0 |    0 |    0 |    0 |    0 |     6 |\n",
       "| 5 | Andorra         | Europa  | Sul da Europa   |  0 |  0 |  0 |  0 |  0 |   0 |   2 | ⋯ |    0 |    1 |    1 |    0 |    0 |    0 |    0 |    1 |    1 |    15 |\n",
       "| 6 | Angola          | África  | África média    |  1 |  3 |  6 |  6 |  4 |   3 |   5 | ⋯ |  295 |  184 |  106 |   76 |   62 |   61 |   39 |   70 |   45 |  2113 |\n",
       "\n"
      ],
      "text/plain": [
       "  País            Continente Região          X1980 X1981 X1982 X1983 X1984\n",
       "1 Afeganistão     Ásia       Sul da Ásia     16    39    39    47    71   \n",
       "2 Albânia         Europa     Sul da Europa    1     0     0     0     0   \n",
       "3 Argélia         África     Norte da África 80    67    71    69    63   \n",
       "4 Samoa Americana Oceânia    Polinésia        0     1     0     0     0   \n",
       "5 Andorra         Europa     Sul da Europa    0     0     0     0     0   \n",
       "6 Angola          África     África média     1     3     6     6     4   \n",
       "  X1985 X1986 ⋯ X2005 X2006 X2007 X2008 X2009 X2010 X2011 X2012 X2013 Total\n",
       "1 340   496   ⋯ 3436  3009  2652  2111  1746  1758  2203  2635  2004  58639\n",
       "2   0     1   ⋯ 1223   856   702   560   716   561   539   620   603  15699\n",
       "3  44    69   ⋯ 3626  4807  3623  4005  5393  4752  4325  3774  4331  69439\n",
       "4   0     0   ⋯    0     1     0     0     0     0     0     0     0      6\n",
       "5   0     2   ⋯    0     1     1     0     0     0     0     1     1     15\n",
       "6   3     5   ⋯  295   184   106    76    62    61    39    70    45   2113"
      ]
     },
     "metadata": {},
     "output_type": "display_data"
    }
   ],
   "source": [
    "# Substitua \"seu_arquivo.csv\" pelo nome do seu arquivo\n",
    "# Tentativa 1: Especificar separador e verificar cabeçalho\n",
    "dados <- read.csv(\"imigrantes_canada.csv\", header = TRUE, sep = \",\")\n",
    "\n",
    "# Visualizar as primeiras linhas do dataset\n",
    "print(\"Primeiras linhas do dataset:\")\n",
    "head(dados)"
   ]
  },
  {
   "cell_type": "code",
   "execution_count": 3,
   "metadata": {
    "vscode": {
     "languageId": "r"
    }
   },
   "outputs": [
    {
     "name": "stdout",
     "output_type": "stream",
     "text": [
      "[1] \"\\nEstrutura do dataset:\"\n",
      "'data.frame':\t195 obs. of  38 variables:\n",
      " $ País      : chr  \"Afeganistão\" \"Albânia\" \"Argélia\" \"Samoa Americana\" ...\n",
      " $ Continente: chr  \"Ásia\" \"Europa\" \"África\" \"Oceânia\" ...\n",
      " $ Região    : chr  \"Sul da Ásia\" \"Sul da Europa\" \"Norte da África\" \"Polinésia\" ...\n",
      " $ X1980     : int  16 1 80 0 0 1 0 368 0 702 ...\n",
      " $ X1981     : int  39 0 67 1 0 3 0 426 0 639 ...\n",
      " $ X1982     : int  39 0 71 0 0 6 0 626 0 484 ...\n",
      " $ X1983     : int  47 0 69 0 0 6 0 241 0 317 ...\n",
      " $ X1984     : int  71 0 63 0 0 4 42 237 0 317 ...\n",
      " $ X1985     : int  340 0 44 0 0 3 52 196 0 319 ...\n",
      " $ X1986     : int  496 1 69 0 2 5 51 213 0 356 ...\n",
      " $ X1987     : int  741 2 132 1 0 5 61 519 0 467 ...\n",
      " $ X1988     : int  828 2 242 0 0 11 34 374 0 410 ...\n",
      " $ X1989     : int  1076 3 434 1 0 6 51 538 0 553 ...\n",
      " $ X1990     : int  1028 3 491 2 3 8 31 678 0 620 ...\n",
      " $ X1991     : int  1378 21 872 0 0 23 59 763 0 640 ...\n",
      " $ X1992     : int  1170 56 795 0 1 26 61 1023 22 734 ...\n",
      " $ X1993     : int  713 96 717 0 0 22 44 1022 21 886 ...\n",
      " $ X1994     : int  858 71 595 0 0 8 18 366 66 702 ...\n",
      " $ X1995     : int  1537 63 1106 0 0 26 23 380 75 668 ...\n",
      " $ X1996     : int  2212 113 2054 0 0 38 21 396 102 699 ...\n",
      " $ X1997     : int  2555 307 1842 0 0 27 27 391 115 623 ...\n",
      " $ X1998     : int  1999 574 2292 0 2 58 19 349 89 479 ...\n",
      " $ X1999     : int  2395 1264 2389 0 0 49 12 318 112 523 ...\n",
      " $ X2000     : int  3326 1816 2867 0 0 70 13 427 124 599 ...\n",
      " $ X2001     : int  4067 1602 3418 0 1 169 25 635 87 799 ...\n",
      " $ X2002     : int  3697 1021 3406 0 0 168 17 865 132 747 ...\n",
      " $ X2003     : int  3479 853 3072 0 2 165 25 1745 153 876 ...\n",
      " $ X2004     : int  2978 1450 3616 0 0 268 14 1591 147 930 ...\n",
      " $ X2005     : int  3436 1223 3626 0 0 295 24 1153 224 909 ...\n",
      " $ X2006     : int  3009 856 4807 1 1 184 32 847 218 875 ...\n",
      " $ X2007     : int  2652 702 3623 0 1 106 15 620 198 1033 ...\n",
      " $ X2008     : int  2111 560 4005 0 0 76 32 540 205 1018 ...\n",
      " $ X2009     : int  1746 716 5393 0 0 62 38 467 267 1018 ...\n",
      " $ X2010     : int  1758 561 4752 0 0 61 27 459 252 933 ...\n",
      " $ X2011     : int  2203 539 4325 0 0 39 37 278 236 851 ...\n",
      " $ X2012     : int  2635 620 3774 0 1 70 51 263 258 982 ...\n",
      " $ X2013     : int  2004 603 4331 0 1 45 25 282 207 1121 ...\n",
      " $ Total     : int  58639 15699 69439 6 15 2113 981 19596 3310 23829 ...\n"
     ]
    }
   ],
   "source": [
    "# Estrutura do dataset\n",
    "print(\"\\nEstrutura do dataset:\")\n",
    "str(dados)"
   ]
  },
  {
   "cell_type": "code",
   "execution_count": 4,
   "metadata": {
    "vscode": {
     "languageId": "r"
    }
   },
   "outputs": [
    {
     "name": "stdout",
     "output_type": "stream",
     "text": [
      "[1] \"\\nResumo estatístico básico:\"\n"
     ]
    },
    {
     "data": {
      "text/plain": [
       "     País            Continente           Região              X1980        \n",
       " Length:195         Length:195         Length:195         Min.   :    0.0  \n",
       " Class :character   Class :character   Class :character   1st Qu.:    0.0  \n",
       " Mode  :character   Mode  :character   Mode  :character   Median :   13.0  \n",
       "                                                          Mean   :  508.4  \n",
       "                                                          3rd Qu.:  251.5  \n",
       "                                                          Max.   :22045.0  \n",
       "     X1981             X1982             X1983             X1984        \n",
       " Min.   :    0.0   Min.   :    0.0   Min.   :    0.0   Min.   :    0.0  \n",
       " 1st Qu.:    0.0   1st Qu.:    0.0   1st Qu.:    0.0   1st Qu.:    0.0  \n",
       " Median :   10.0   Median :   11.0   Median :   12.0   Median :   13.0  \n",
       " Mean   :  567.0   Mean   :  534.7   Mean   :  387.4   Mean   :  376.5  \n",
       " 3rd Qu.:  295.5   3rd Qu.:  275.0   3rd Qu.:  173.0   3rd Qu.:  181.0  \n",
       " Max.   :24796.0   Max.   :20620.0   Max.   :10015.0   Max.   :10170.0  \n",
       "     X1985            X1986            X1987             X1988        \n",
       " Min.   :   0.0   Min.   :   0.0   Min.   :    0.0   Min.   :    0.0  \n",
       " 1st Qu.:   0.0   1st Qu.:   0.5   1st Qu.:    0.5   1st Qu.:    1.0  \n",
       " Median :  17.0   Median :  18.0   Median :   26.0   Median :   34.0  \n",
       " Mean   : 358.9   Mean   : 441.3   Mean   :  691.1   Mean   :  714.4  \n",
       " 3rd Qu.: 197.0   3rd Qu.: 254.0   3rd Qu.:  434.0   3rd Qu.:  409.0  \n",
       " Max.   :9564.0   Max.   :9470.0   Max.   :21337.0   Max.   :27359.0  \n",
       "     X1989             X1990             X1991             X1992        \n",
       " Min.   :    0.0   Min.   :    0.0   Min.   :    0.0   Min.   :    0.0  \n",
       " 1st Qu.:    1.0   1st Qu.:    2.0   1st Qu.:    3.0   1st Qu.:    6.5  \n",
       " Median :   44.0   Median :   38.0   Median :   51.0   Median :   74.0  \n",
       " Mean   :  843.2   Mean   :  964.4   Mean   : 1064.1   Mean   : 1136.9  \n",
       " 3rd Qu.:  508.5   3rd Qu.:  612.5   3rd Qu.:  657.5   3rd Qu.:  655.0  \n",
       " Max.   :23795.0   Max.   :31668.0   Max.   :23380.0   Max.   :34123.0  \n",
       "     X1993             X1994             X1995             X1996        \n",
       " Min.   :    0.0   Min.   :    0.0   Min.   :    0.0   Min.   :    0.0  \n",
       " 1st Qu.:   11.5   1st Qu.:    9.5   1st Qu.:   10.5   1st Qu.:   14.5  \n",
       " Median :   85.0   Median :   76.0   Median :   91.0   Median :  118.0  \n",
       " Mean   : 1138.7   Mean   :  993.1   Mean   :  962.6   Mean   : 1026.1  \n",
       " 3rd Qu.:  722.5   3rd Qu.:  545.0   3rd Qu.:  550.5   3rd Qu.:  603.5  \n",
       " Max.   :33720.0   Max.   :39231.0   Max.   :30145.0   Max.   :29322.0  \n",
       "     X1997             X1998             X1999             X2000      \n",
       " Min.   :    0.0   Min.   :    0.0   Min.   :    0.0   Min.   :    0  \n",
       " 1st Qu.:   19.5   1st Qu.:   15.0   1st Qu.:   16.0   1st Qu.:   16  \n",
       " Median :  114.0   Median :  106.0   Median :  116.0   Median :  138  \n",
       " Mean   :  989.2   Mean   :  824.2   Mean   :  922.1   Mean   : 1111  \n",
       " 3rd Qu.:  612.5   3rd Qu.:  535.5   3rd Qu.:  548.5   3rd Qu.:  659  \n",
       " Max.   :22965.0   Max.   :21049.0   Max.   :30069.0   Max.   :35529  \n",
       "     X2001             X2002             X2003             X2004        \n",
       " Min.   :    0.0   Min.   :    0.0   Min.   :    0.0   Min.   :    0.0  \n",
       " 1st Qu.:   22.0   1st Qu.:   18.5   1st Qu.:   21.5   1st Qu.:   19.0  \n",
       " Median :  169.0   Median :  165.0   Median :  161.0   Median :  191.0  \n",
       " Mean   : 1244.3   Mean   : 1144.2   Mean   : 1114.3   Mean   : 1190.2  \n",
       " 3rd Qu.:  793.5   3rd Qu.:  686.0   3rd Qu.:  673.5   3rd Qu.:  756.5  \n",
       " Max.   :36434.0   Max.   :31961.0   Max.   :36439.0   Max.   :36619.0  \n",
       "     X2005             X2006           X2007           X2008        \n",
       " Min.   :    0.0   Min.   :    0   Min.   :    0   Min.   :    0.0  \n",
       " 1st Qu.:   28.5   1st Qu.:   25   1st Qu.:   31   1st Qu.:   31.0  \n",
       " Median :  210.0   Median :  218   Median :  198   Median :  205.0  \n",
       " Mean   : 1320.3   Mean   : 1267   Mean   : 1192   Mean   : 1246.4  \n",
       " 3rd Qu.:  832.0   3rd Qu.:  842   3rd Qu.:  899   3rd Qu.:  934.5  \n",
       " Max.   :42584.0   Max.   :33848   Max.   :28742   Max.   :30037.0  \n",
       "     X2009           X2010             X2011             X2012        \n",
       " Min.   :    0   Min.   :    0.0   Min.   :    0.0   Min.   :    0.0  \n",
       " 1st Qu.:   36   1st Qu.:   40.5   1st Qu.:   37.5   1st Qu.:   42.5  \n",
       " Median :  214   Median :  211.0   Median :  179.0   Median :  233.0  \n",
       " Mean   : 1276   Mean   : 1420.3   Mean   : 1262.5   Mean   : 1314.0  \n",
       " 3rd Qu.:  888   3rd Qu.:  932.0   3rd Qu.:  772.0   3rd Qu.:  783.0  \n",
       " Max.   :29622   Max.   :38617.0   Max.   :36765.0   Max.   :34315.0  \n",
       "     X2013           Total       \n",
       " Min.   :    0   Min.   :     1  \n",
       " 1st Qu.:   45   1st Qu.:   952  \n",
       " Median :  213   Median :  5018  \n",
       " Mean   : 1321   Mean   : 32868  \n",
       " 3rd Qu.:  796   3rd Qu.: 22240  \n",
       " Max.   :34129   Max.   :691904  "
      ]
     },
     "metadata": {},
     "output_type": "display_data"
    }
   ],
   "source": [
    "# Resumo estatístico básico\n",
    "print(\"\\nResumo estatístico básico:\")\n",
    "summary(dados)"
   ]
  },
  {
   "cell_type": "code",
   "execution_count": 8,
   "metadata": {
    "vscode": {
     "languageId": "r"
    }
   },
   "outputs": [
    {
     "name": "stdout",
     "output_type": "stream",
     "text": [
      "[1] \"\\nValores ausentes por coluna:\"\n"
     ]
    },
    {
     "data": {
      "text/html": [
       "<style>\n",
       ".dl-inline {width: auto; margin:0; padding: 0}\n",
       ".dl-inline>dt, .dl-inline>dd {float: none; width: auto; display: inline-block}\n",
       ".dl-inline>dt::after {content: \":\\0020\"; padding-right: .5ex}\n",
       ".dl-inline>dt:not(:first-of-type) {padding-left: .5ex}\n",
       "</style><dl class=dl-inline><dt>País</dt><dd>0</dd><dt>Continente</dt><dd>0</dd><dt>Região</dt><dd>0</dd><dt>X1980</dt><dd>0</dd><dt>X1981</dt><dd>0</dd><dt>X1982</dt><dd>0</dd><dt>X1983</dt><dd>0</dd><dt>X1984</dt><dd>0</dd><dt>X1985</dt><dd>0</dd><dt>X1986</dt><dd>0</dd><dt>X1987</dt><dd>0</dd><dt>X1988</dt><dd>0</dd><dt>X1989</dt><dd>0</dd><dt>X1990</dt><dd>0</dd><dt>X1991</dt><dd>0</dd><dt>X1992</dt><dd>0</dd><dt>X1993</dt><dd>0</dd><dt>X1994</dt><dd>0</dd><dt>X1995</dt><dd>0</dd><dt>X1996</dt><dd>0</dd><dt>X1997</dt><dd>0</dd><dt>X1998</dt><dd>0</dd><dt>X1999</dt><dd>0</dd><dt>X2000</dt><dd>0</dd><dt>X2001</dt><dd>0</dd><dt>X2002</dt><dd>0</dd><dt>X2003</dt><dd>0</dd><dt>X2004</dt><dd>0</dd><dt>X2005</dt><dd>0</dd><dt>X2006</dt><dd>0</dd><dt>X2007</dt><dd>0</dd><dt>X2008</dt><dd>0</dd><dt>X2009</dt><dd>0</dd><dt>X2010</dt><dd>0</dd><dt>X2011</dt><dd>0</dd><dt>X2012</dt><dd>0</dd><dt>X2013</dt><dd>0</dd><dt>Total</dt><dd>0</dd></dl>\n"
      ],
      "text/latex": [
       "\\begin{description*}\n",
       "\\item[País] 0\n",
       "\\item[Continente] 0\n",
       "\\item[Região] 0\n",
       "\\item[X1980] 0\n",
       "\\item[X1981] 0\n",
       "\\item[X1982] 0\n",
       "\\item[X1983] 0\n",
       "\\item[X1984] 0\n",
       "\\item[X1985] 0\n",
       "\\item[X1986] 0\n",
       "\\item[X1987] 0\n",
       "\\item[X1988] 0\n",
       "\\item[X1989] 0\n",
       "\\item[X1990] 0\n",
       "\\item[X1991] 0\n",
       "\\item[X1992] 0\n",
       "\\item[X1993] 0\n",
       "\\item[X1994] 0\n",
       "\\item[X1995] 0\n",
       "\\item[X1996] 0\n",
       "\\item[X1997] 0\n",
       "\\item[X1998] 0\n",
       "\\item[X1999] 0\n",
       "\\item[X2000] 0\n",
       "\\item[X2001] 0\n",
       "\\item[X2002] 0\n",
       "\\item[X2003] 0\n",
       "\\item[X2004] 0\n",
       "\\item[X2005] 0\n",
       "\\item[X2006] 0\n",
       "\\item[X2007] 0\n",
       "\\item[X2008] 0\n",
       "\\item[X2009] 0\n",
       "\\item[X2010] 0\n",
       "\\item[X2011] 0\n",
       "\\item[X2012] 0\n",
       "\\item[X2013] 0\n",
       "\\item[Total] 0\n",
       "\\end{description*}\n"
      ],
      "text/markdown": [
       "País\n",
       ":   0Continente\n",
       ":   0Região\n",
       ":   0X1980\n",
       ":   0X1981\n",
       ":   0X1982\n",
       ":   0X1983\n",
       ":   0X1984\n",
       ":   0X1985\n",
       ":   0X1986\n",
       ":   0X1987\n",
       ":   0X1988\n",
       ":   0X1989\n",
       ":   0X1990\n",
       ":   0X1991\n",
       ":   0X1992\n",
       ":   0X1993\n",
       ":   0X1994\n",
       ":   0X1995\n",
       ":   0X1996\n",
       ":   0X1997\n",
       ":   0X1998\n",
       ":   0X1999\n",
       ":   0X2000\n",
       ":   0X2001\n",
       ":   0X2002\n",
       ":   0X2003\n",
       ":   0X2004\n",
       ":   0X2005\n",
       ":   0X2006\n",
       ":   0X2007\n",
       ":   0X2008\n",
       ":   0X2009\n",
       ":   0X2010\n",
       ":   0X2011\n",
       ":   0X2012\n",
       ":   0X2013\n",
       ":   0Total\n",
       ":   0\n",
       "\n"
      ],
      "text/plain": [
       "      País Continente     Região      X1980      X1981      X1982      X1983 \n",
       "         0          0          0          0          0          0          0 \n",
       "     X1984      X1985      X1986      X1987      X1988      X1989      X1990 \n",
       "         0          0          0          0          0          0          0 \n",
       "     X1991      X1992      X1993      X1994      X1995      X1996      X1997 \n",
       "         0          0          0          0          0          0          0 \n",
       "     X1998      X1999      X2000      X2001      X2002      X2003      X2004 \n",
       "         0          0          0          0          0          0          0 \n",
       "     X2005      X2006      X2007      X2008      X2009      X2010      X2011 \n",
       "         0          0          0          0          0          0          0 \n",
       "     X2012      X2013      Total \n",
       "         0          0          0 "
      ]
     },
     "metadata": {},
     "output_type": "display_data"
    }
   ],
   "source": [
    "# Contagem de valores ausentes\n",
    "print(\"\\nValores ausentes por coluna:\")\n",
    "colSums(is.na(dados))"
   ]
  }
 ],
 "metadata": {
  "kernelspec": {
   "display_name": "R",
   "language": "R",
   "name": "ir"
  },
  "language_info": {
   "codemirror_mode": "r",
   "file_extension": ".r",
   "mimetype": "text/x-r-source",
   "name": "R",
   "pygments_lexer": "r",
   "version": "4.3.3"
  }
 },
 "nbformat": 4,
 "nbformat_minor": 2
}
